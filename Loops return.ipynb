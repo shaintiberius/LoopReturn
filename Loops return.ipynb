{
 "cells": [
  {
   "cell_type": "code",
   "execution_count": null,
   "id": "fd935037",
   "metadata": {},
   "outputs": [],
   "source": [
    "#list datatype"
   ]
  },
  {
   "cell_type": "code",
   "execution_count": null,
   "id": "a60cade3",
   "metadata": {},
   "outputs": [],
   "source": []
  },
  {
   "cell_type": "code",
   "execution_count": null,
   "id": "ef39ac37",
   "metadata": {},
   "outputs": [],
   "source": []
  },
  {
   "cell_type": "code",
   "execution_count": 1,
   "id": "fc7d16b8",
   "metadata": {},
   "outputs": [],
   "source": [
    "test_scores = [ 22, 99, 102 , 33, 57, 75, 100, 81, 62, 29]"
   ]
  },
  {
   "cell_type": "code",
   "execution_count": null,
   "id": "8de2d7f6",
   "metadata": {},
   "outputs": [],
   "source": []
  },
  {
   "cell_type": "code",
   "execution_count": 2,
   "id": "8d1556d4",
   "metadata": {},
   "outputs": [
    {
     "name": "stdout",
     "output_type": "stream",
     "text": [
      "660\n",
      "66.0\n"
     ]
    }
   ],
   "source": [
    "def get_sum(num_list):\n",
    "    sum = 0\n",
    "    for x in num_list:\n",
    "        sum = sum + x\n",
    "    return sum\n",
    "\n",
    "sum = get_sum(test_scores)\n",
    "print(sum)\n",
    "n= len(test_scores)\n",
    "mean = sum/n\n",
    "\n",
    "print(mean)"
   ]
  },
  {
   "cell_type": "code",
   "execution_count": 3,
   "id": "eb8230b1",
   "metadata": {},
   "outputs": [
    {
     "name": "stdout",
     "output_type": "stream",
     "text": [
      "[-44.0, 33.0, 36.0, -33.0, -9.0, 9.0, 34.0, 15.0, -4.0, -37.0]\n"
     ]
    }
   ],
   "source": [
    "delta_mean_list = []\n",
    "for i in test_scores:\n",
    "    d_mean = i - mean\n",
    "    delta_mean_list.append(d_mean)\n",
    "    \n",
    "print(delta_mean_list)"
   ]
  },
  {
   "cell_type": "code",
   "execution_count": 4,
   "id": "d1503cfc",
   "metadata": {},
   "outputs": [
    {
     "name": "stdout",
     "output_type": "stream",
     "text": [
      "[1936.0, 1089.0, 1296.0, 1089.0, 81.0, 81.0, 1156.0, 225.0, 16.0, 1369.0]\n"
     ]
    }
   ],
   "source": [
    "delta_mean_list_squared = []\n",
    "for d_mean in delta_mean_list:\n",
    "    d_mean_squared = d_mean**2\n",
    "    delta_mean_list_squared.append(d_mean_squared)\n",
    "print(delta_mean_list_squared)"
   ]
  },
  {
   "cell_type": "code",
   "execution_count": 5,
   "id": "c848b0de",
   "metadata": {},
   "outputs": [
    {
     "name": "stdout",
     "output_type": "stream",
     "text": [
      "8338.0\n"
     ]
    }
   ],
   "source": [
    "delta_mean_squared_sum = get_sum(delta_mean_list_squared)\n",
    "print(delta_mean_squared_sum)"
   ]
  },
  {
   "cell_type": "code",
   "execution_count": 6,
   "id": "05b139a5",
   "metadata": {},
   "outputs": [
    {
     "name": "stdout",
     "output_type": "stream",
     "text": [
      "833.8 28.875595231960155\n"
     ]
    }
   ],
   "source": [
    "import math\n",
    "variance = delta_mean_squared_sum/n\n",
    "standard_deviation = math.sqrt(variance)\n",
    "print(variance,standard_deviation)"
   ]
  },
  {
   "cell_type": "code",
   "execution_count": 11,
   "id": "f218dbb4",
   "metadata": {
    "scrolled": true
   },
   "outputs": [
    {
     "name": "stdout",
     "output_type": "stream",
     "text": [
      "(66.0, 833.8, 28.875595231960155)\n",
      "(60.714285714285715, 1191.142857142857, 34.51293753279858)\n",
      "(44.44444444444444, 926.4444444444445, 30.437549908697388)\n",
      "(7.384615384615385, 641.3846153846154, 25.32557236045447)\n",
      "(115.0, 1042.25, 32.283896914715854)\n"
     ]
    }
   ],
   "source": [
    "def get_sum(num_list):\n",
    "    sum = 0\n",
    "    for x in num_list:\n",
    "        sum = sum + x \n",
    "    return sum\n",
    "\n",
    "import math\n",
    "def do_homework (num_list):\n",
    "    sum=get_sum(num_list)\n",
    "    n=len(num_list)\n",
    "    mean = sum/n\n",
    "    for i in test_scores:\n",
    "        d_mean = i-mean\n",
    "        delta_mean_list.append(d_mean)\n",
    "    for d_mean in delta_mean_list:\n",
    "            d_mean_sqrd = d_mean**2\n",
    "            delta_mean_list_squared.append(d_mean_sqrd)\n",
    "    variance = delta_mean_squared_sum/n\n",
    "    standard_deviation = math.sqrt(variance)\n",
    "    return mean, variance, standard_deviation\n",
    "    \n",
    "print(do_homework([ 22, 99, 102 , 33, 57, 75, 100, 81, 62, 29]))\n",
    "print(do_homework([35, 50, 60, 60, 75, 65, 80]))\n",
    "print(do_homework([51, 48, 47, 46, 45, 43, 41, 40, 39]))\n",
    "print(do_homework([11, 7, 14, 2, 8, 13, 3, 6, 10, 3, 8, 4, 7]))\n",
    "print(do_homework([100, 105, 110, 110, 115, 120, 125, 135]))"
   ]
  },
  {
   "cell_type": "code",
   "execution_count": 18,
   "id": "d2e6c06d",
   "metadata": {},
   "outputs": [
    {
     "name": "stdout",
     "output_type": "stream",
     "text": [
      "(0    66.0\n",
      "dtype: float64, 0    68.5\n",
      "dtype: float64, 0    28.875595\n",
      "dtype: float64)\n",
      "(0    60.714286\n",
      "dtype: float64, 0    60.0\n",
      "dtype: float64, 0    13.997084\n",
      "dtype: float64)\n",
      "(0    44.444444\n",
      "dtype: float64, 0    45.0\n",
      "dtype: float64, 0    3.774508\n",
      "dtype: float64)\n",
      "(0    7.384615\n",
      "dtype: float64, 0    7.0\n",
      "dtype: float64, 0    3.690705\n",
      "dtype: float64)\n",
      "(0    115.0\n",
      "dtype: float64, 0    112.5\n",
      "dtype: float64, 0    10.606602\n",
      "dtype: float64)\n"
     ]
    }
   ],
   "source": [
    "import pandas as pd\n",
    "def do_homework_quickly(num_list):\n",
    "    df = pd.DataFrame(num_list)\n",
    "    mean = df.mean()\n",
    "    median = df.median()\n",
    "    standard_deviation = df.std(ddof=0)\n",
    "    return mean, median, standard_deviation\n",
    "\n",
    "print(do_homework_quickly([ 22, 99, 102 , 33, 57, 75, 100, 81, 62, 29]))\n",
    "print(do_homework_quickly([35, 50, 60, 60, 75, 65, 80]))\n",
    "print(do_homework_quickly([51, 48, 47, 46, 45, 43, 41, 40, 39]))\n",
    "print(do_homework_quickly([11, 7, 14, 2, 8, 13, 3, 6, 10, 3, 8, 4, 7]))\n",
    "print(do_homework_quickly([100, 105, 110, 110, 115, 120, 125, 135]))"
   ]
  }
 ],
 "metadata": {
  "kernelspec": {
   "display_name": "Python 3 (ipykernel)",
   "language": "python",
   "name": "python3"
  },
  "language_info": {
   "codemirror_mode": {
    "name": "ipython",
    "version": 3
   },
   "file_extension": ".py",
   "mimetype": "text/x-python",
   "name": "python",
   "nbconvert_exporter": "python",
   "pygments_lexer": "ipython3",
   "version": "3.9.12"
  }
 },
 "nbformat": 4,
 "nbformat_minor": 5
}
